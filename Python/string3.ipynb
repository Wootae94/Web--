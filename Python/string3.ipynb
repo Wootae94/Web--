{
 "cells": [
  {
   "cell_type": "code",
   "execution_count": null,
   "metadata": {},
   "outputs": [],
   "source": [
    "print('''\n",
    "Lorem ipsum {} sit amet, consectetur adipiscing elit. \n",
    "Integer fringilla lorem vitae purus dapibus feugiat. \n",
    "Nam commodo elementum lacus a pulvinar. \n",
    "Mauris volutpat fringilla libero. \n",
    "Pellentesque eleifend {} odio, vel sodales lorem porttitor in. \n",
    "Pellentesque dapibus odio sapien, sit amet sollicitudin eros dignissim sit amet. \n",
    "Etiam nec {} tellus. \n",
    "Proin eget semper arcu. \n",
    "In luctus fermentum placerat.''').format('egoing',12,'egoing')"
   ]
  },
  {
   "cell_type": "code",
   "execution_count": null,
   "metadata": {},
   "outputs": [],
   "source": []
  }
 ],
 "metadata": {
  "kernelspec": {
   "display_name": "Python 3",
   "language": "python",
   "name": "python3"
  },
  "language_info": {
   "codemirror_mode": {
    "name": "ipython",
    "version": 3
   },
   "file_extension": ".py",
   "mimetype": "text/x-python",
   "name": "python",
   "nbconvert_exporter": "python",
   "pygments_lexer": "ipython3",
   "version": "3.8.3"
  }
 },
 "nbformat": 4,
 "nbformat_minor": 4
}
